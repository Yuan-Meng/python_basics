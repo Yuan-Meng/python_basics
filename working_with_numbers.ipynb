{
 "cells": [
  {
   "cell_type": "markdown",
   "metadata": {},
   "source": [
    "# Python: Working with Numbers\n",
    "## Yuan Meng \n",
    "## Sept. 18, 2019"
   ]
  },
  {
   "cell_type": "markdown",
   "metadata": {},
   "source": [
    "# Kata 1: Rømer temperature"
   ]
  },
  {
   "cell_type": "code",
   "execution_count": 3,
   "metadata": {},
   "outputs": [
    {
     "data": {
      "text/plain": [
       "60.0"
      ]
     },
     "execution_count": 3,
     "metadata": {},
     "output_type": "execute_result"
    }
   ],
   "source": [
    "# According to Wikipedia, from Celsius to Rømer: [°Rø] = [°C] × 21⁄40 + 7.5\n",
    "# Input: Celsius\n",
    "# Output: Rømer\n",
    "# Strategy: Apply the relationship above\n",
    "def celsius_to_romer(temp):\n",
    "    return temp * 21/40 + 7.5\n",
    "\n",
    "# Test cases:\n",
    "celsius_to_romer(0)\n",
    "celsius_to_romer(100)\n",
    "\n",
    "# Passed Codewars test!"
   ]
  },
  {
   "cell_type": "markdown",
   "metadata": {},
   "source": [
    "# Kata 2: Pixelart plannin"
   ]
  },
  {
   "cell_type": "code",
   "execution_count": 6,
   "metadata": {},
   "outputs": [
    {
     "data": {
      "text/plain": [
       "True"
      ]
     },
     "execution_count": 6,
     "metadata": {},
     "output_type": "execute_result"
    }
   ],
   "source": [
    "# Input: size of the wall, size of each pixels (both in milimeters)\n",
    "# Output: whether we can fit an integer number of pixels in the wall\n",
    "# Strategy: check whether the remainder of wall_length divided by pixel_size is 0\n",
    "def is_divisible(wall_length, pixel_size):\n",
    "    return wall_length % pixel_size == 0\n",
    "\n",
    "# Test case\n",
    "is_divisible(4050, 27)\n",
    "\n",
    "# Passed Codewars test!"
   ]
  },
  {
   "cell_type": "markdown",
   "metadata": {},
   "source": [
    "# Kata 3: Blue and red marbles"
   ]
  },
  {
   "cell_type": "code",
   "execution_count": 12,
   "metadata": {},
   "outputs": [
    {
     "data": {
      "text/plain": [
       "0.6"
      ]
     },
     "execution_count": 12,
     "metadata": {},
     "output_type": "execute_result"
    }
   ],
   "source": [
    "# Input: total # of blue marbles, total # of red marbles, # of blue marbles pulled so far, # of red marbles pulled so far\n",
    "# Output: probability of getting a blue marble this time\n",
    "# Strategy: (total number of blue - blue pulled so far)/((total number of blue - blue pulled so far) + (total number of red - red pulled so far))\n",
    "\n",
    "def guess_blue(blue_total, red_total, blue_pulled, red_pulled):\n",
    "    return (blue_total-blue_pulled)/((blue_total-blue_pulled)+(red_total-red_pulled))\n",
    "\n",
    "# Test case:\n",
    "guess_blue(5, 5, 2, 3)\n",
    "\n",
    "# Passed Codewars test!"
   ]
  },
  {
   "cell_type": "code",
   "execution_count": 13,
   "metadata": {},
   "outputs": [
    {
     "data": {
      "text/plain": [
       "0.6"
      ]
     },
     "execution_count": 13,
     "metadata": {},
     "output_type": "execute_result"
    }
   ],
   "source": [
    "# The best solution on Codewars is more readable than mine\n",
    "# It creates two new variables representing the number of remaining marbles of each color\n",
    "def guess_blue(blue_start, red_start, blue_pulled, red_pulled):\n",
    "    blue_remaining = blue_start - blue_pulled\n",
    "    red_remaining = red_start - red_pulled\n",
    "    return blue_remaining / (blue_remaining + red_remaining)\n",
    "\n",
    "# Test case:\n",
    "guess_blue(5, 5, 2, 3)"
   ]
  },
  {
   "cell_type": "markdown",
   "metadata": {},
   "source": [
    "# Kata 4: Congo warehouses"
   ]
  },
  {
   "cell_type": "code",
   "execution_count": 14,
   "metadata": {},
   "outputs": [
    {
     "data": {
      "text/plain": [
       "13824"
      ]
     },
     "execution_count": 14,
     "metadata": {},
     "output_type": "execute_result"
    }
   ],
   "source": [
    "# Input: The size of a warehouse (in feet)\n",
    "# Output: The number of crates that fit in this warehouse\n",
    "# Strategy: \n",
    "  ## To find out how many crates fit in the warehouse, find out how many fit on each of the 3 dimensions and multiply them \n",
    "  ## To find out how many crates fit on each dimension, divide the maximum of that dimenison by the size of each crate (Convert units!)\n",
    "  ## Since we can't split a whole crate, it's appropriate to use floor division to get the nearest (smaller) integer number \n",
    "\n",
    "def box_capacity(length, width, height):\n",
    "    # Convert feet to inches\n",
    "    box_length = length * 12 // 16\n",
    "    box_width = width * 12 // 16\n",
    "    box_height = height * 12 // 16\n",
    "    return box_length * box_width * box_height\n",
    "\n",
    "# Test case:\n",
    "box_capacity(32, 64, 16)"
   ]
  },
  {
   "cell_type": "code",
   "execution_count": 15,
   "metadata": {},
   "outputs": [
    {
     "data": {
      "text/plain": [
       "13824"
      ]
     },
     "execution_count": 15,
     "metadata": {},
     "output_type": "execute_result"
    }
   ],
   "source": [
    "# Isn't it funny? Now the most popular solution uses one line rather than creating new variables\n",
    "def box_capacity(length, width, height):\n",
    "    return (length * 12 // 16) * (width * 12 // 16) * (height * 12 // 16)\n",
    "\n",
    "# Test case:\n",
    "box_capacity(32, 64, 16)"
   ]
  },
  {
   "cell_type": "markdown",
   "metadata": {},
   "source": [
    "# Kata 5: Quadratic formula"
   ]
  },
  {
   "cell_type": "code",
   "execution_count": 21,
   "metadata": {},
   "outputs": [
    {
     "data": {
      "text/plain": [
       "[-0.06299606299409444, -7.937003937005906]"
      ]
     },
     "execution_count": 21,
     "metadata": {},
     "output_type": "execute_result"
    }
   ],
   "source": [
    "# Input: Coefficients of a quadratic function, a, b, c\n",
    "# Output: The roots of the given function (No need to worry about complex roots in this kata)\n",
    "# Strategy\n",
    "  ## Find the formula: https://en.wikipedia.org/wiki/Quadratic_formula\n",
    "  ## Note that square root is not included in Python's basic operations: Import the math library\n",
    "  ## Keep in mind the precedence of operators and use parentheses properly \n",
    "import math\n",
    "def quadratic_formula(a, b, c):\n",
    "    \n",
    "    root1 = (-b + math.sqrt(b**2 - 4*a*c))/(2*a)\n",
    "    \n",
    "    root2 = (-b - math.sqrt(b**2 - 4*a*c))/(2*a)\n",
    "    \n",
    "    return [root1, root2]\n",
    "\n",
    "# Test case:\n",
    "quadratic_formula(2, 16, 1)"
   ]
  },
  {
   "cell_type": "code",
   "execution_count": 22,
   "metadata": {},
   "outputs": [
    {
     "data": {
      "text/plain": [
       "[-7.937003937005906, -0.06299606299409444]"
      ]
     },
     "execution_count": 22,
     "metadata": {},
     "output_type": "execute_result"
    }
   ],
   "source": [
    "# The most popluar solution doesn't import the whole math library but pnly the sqrt() operation\n",
    "# Also, it calculates delta seperately to increase readability \n",
    "from math import sqrt\n",
    "\n",
    "def quadratic_formula(a, b, c):    \n",
    "    delta = b * b - 4 * a *c\n",
    "    root1 = (-b - sqrt(delta)) / (2 * a)     \n",
    "    root2 = (-b + sqrt(delta)) / (2 * a)     \n",
    "    return [root1, root2]\n",
    "\n",
    "# Test case:\n",
    "quadratic_formula(2, 16, 1)"
   ]
  }
 ],
 "metadata": {
  "kernelspec": {
   "display_name": "Python 3",
   "language": "python",
   "name": "python3"
  },
  "language_info": {
   "codemirror_mode": {
    "name": "ipython",
    "version": 3
   },
   "file_extension": ".py",
   "mimetype": "text/x-python",
   "name": "python",
   "nbconvert_exporter": "python",
   "pygments_lexer": "ipython3",
   "version": "3.6.1"
  }
 },
 "nbformat": 4,
 "nbformat_minor": 2
}
