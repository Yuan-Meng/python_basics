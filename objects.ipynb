{
 "cells": [
  {
   "cell_type": "markdown",
   "metadata": {},
   "source": [
    "# Objects, classes, and modules\n",
    "## Yuan Meng\n",
    "## Sept. 22, 2019"
   ]
  },
  {
   "cell_type": "markdown",
   "metadata": {},
   "source": [
    "# Kata 1: Vectors"
   ]
  },
  {
   "cell_type": "markdown",
   "metadata": {},
   "source": [
    "## My solution"
   ]
  },
  {
   "cell_type": "code",
   "execution_count": 31,
   "metadata": {},
   "outputs": [
    {
     "name": "stdout",
     "output_type": "stream",
     "text": [
      "<bound method Vector.add of <__main__.Vector object at 0x110155128>>\n"
     ]
    }
   ],
   "source": [
    "# task: write a Vector class with following attributes:\n",
    "  # x and y: component magnitudes in the x and y directions\n",
    "  # .add(): takes a second vector and returns the sum\n",
    "\n",
    "class Vector(object):\n",
    "    # initialize each vector with 2 attributes: x and y\n",
    "    def __init__(self, x, y):\n",
    "        self.x = x\n",
    "        self.y = y\n",
    "    # .add() takes one argument: another vector      \n",
    "    def add(self, other):\n",
    "        sum_x = self.x + other.x # the new x attribute\n",
    "        sum_y = self.y + other.y # the new y attribute\n",
    "        return Vector(sum_x, sum_y) # return a new vector (tricky: here we use the new class we are defining)\n",
    "\n",
    "# test case\n",
    "a = Vector(3, 4)\n",
    "b = Vector(1, 2)\n",
    "c = a.add(b)\n",
    "# Codewars: passed!\n",
    "\n",
    "print(a.add)"
   ]
  },
  {
   "cell_type": "markdown",
   "metadata": {},
   "source": [
    "## Clever solution"
   ]
  },
  {
   "cell_type": "code",
   "execution_count": null,
   "metadata": {},
   "outputs": [],
   "source": [
    "class Vector(object):\n",
    "    def __init__(self, x, y):\n",
    "        self.x = x\n",
    "        self.y = y\n",
    "        \n",
    "    def add(self, vector):\n",
    "        return Vector(self.x + vector.x, self.y + vector.y)\n",
    "# basically the same as mine\n",
    "# except it does the addition in one step "
   ]
  },
  {
   "cell_type": "markdown",
   "metadata": {},
   "source": [
    "# Kata 2: Puzzlebox"
   ]
  },
  {
   "cell_type": "markdown",
   "metadata": {},
   "source": [
    "## My solution"
   ]
  },
  {
   "cell_type": "code",
   "execution_count": 29,
   "metadata": {},
   "outputs": [],
   "source": [
    "# input: an unknown object puzzlebox\n",
    "# output: pass the test \n",
    "\n",
    "# I didn't solve it... \n",
    "# I printed out all attributes\n",
    "print(dir(puzzlebox))\n",
    "# then printed out all hints \n",
    "print(puzzlebox.hint)\n",
    "print(puzzlebox.key)\n",
    "print(puzzlebox.hint_two)\n",
    "print(puzzlebox.lock)\n",
    "# then I tried several ways to lock to box\n",
    "puzzlebox.Puzzlebox.lock(puzzlebox.key)\n",
    "puzzlebox.key.Puzzlebox.lock(puzzlebox.key)\n",
    "# got an \"AttributeError\" everytime\n",
    "# in the end, I checked out the answer"
   ]
  },
  {
   "cell_type": "code",
   "execution_count": null,
   "metadata": {},
   "outputs": [],
   "source": [
    "def answer(puzzlebox):\n",
    "    return 42\n",
    "# below is how to find out:\n",
    "puzzlebox.lock(puzzlebox.key)\n",
    "# here's what I figured out\n",
    "  # that using dir() on a specific instance of the class returns all attributes\n",
    "  # that I use a lock function on puzzlebox.key\n",
    "# here's what I missed\n",
    "  # the function is called \"lock\", not Puzzlebox.lock \n",
    "  # we can tell this by looking at dir(puzzlebox)), which prints all attributes including functions\n",
    "# more generally, to see attributes of a class, create a specific instance first\n",
    "# to create a specific instance, we don't need to known what arguments need to to passed\n",
    "# puzzlebox = Puzzlebox() would inherit all attributes, which can be examined "
   ]
  },
  {
   "cell_type": "markdown",
   "metadata": {},
   "source": [
    "# Kata 3: Quarks"
   ]
  },
  {
   "cell_type": "markdown",
   "metadata": {},
   "source": [
    "## My solution"
   ]
  },
  {
   "cell_type": "code",
   "execution_count": null,
   "metadata": {},
   "outputs": [],
   "source": [
    "# task: write a Quark class with following attributes\n",
    "  # color: red, blue, green\n",
    "  # flavor: up, down, strange, charm, top, bottom\n",
    "  # baryon number: 1.0 / 3\n",
    "  # .interact(): change colors\n",
    "\n",
    "class Quark(object):\n",
    "    # initialize each quark with 2 attributes: color and flavor\n",
    "    def __init__(self, color, flavor):\n",
    "        self.color = color\n",
    "        self.flavor = flavor\n",
    "    # since baryon number is always 1/3, no need to put it in __init__\n",
    "    baryon_number = 1/3\n",
    "    # exchange colors\n",
    "    def interact(self, other):\n",
    "        self.color, other.color = other.color, self.color\n",
    "        \n",
    "#Codewar: passed!   "
   ]
  },
  {
   "cell_type": "markdown",
   "metadata": {},
   "source": [
    "## Clever solution"
   ]
  },
  {
   "cell_type": "code",
   "execution_count": null,
   "metadata": {},
   "outputs": [],
   "source": [
    "class Quark(object):\n",
    "    def __init__(self, color, flavor):\n",
    "        self.color, self.flavor, self.baryon_number = color, flavor, 1/3.\n",
    "    def interact(self, other):\n",
    "        self.color, other.color = other.color, self.color\n",
    "# shortcut of assigning values: name_1, name_2, ... = value_1, value_2, ...        "
   ]
  }
 ],
 "metadata": {
  "kernelspec": {
   "display_name": "Python 3",
   "language": "python",
   "name": "python3"
  },
  "language_info": {
   "codemirror_mode": {
    "name": "ipython",
    "version": 3
   },
   "file_extension": ".py",
   "mimetype": "text/x-python",
   "name": "python",
   "nbconvert_exporter": "python",
   "pygments_lexer": "ipython3",
   "version": "3.6.1"
  }
 },
 "nbformat": 4,
 "nbformat_minor": 2
}
