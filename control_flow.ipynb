{
 "cells": [
  {
   "cell_type": "markdown",
   "metadata": {},
   "source": [
    "# Logic, control flow, and conditionals\n",
    "## Yuan Meng\n",
    "## Sept. 19, 2019"
   ]
  },
  {
   "cell_type": "markdown",
   "metadata": {},
   "source": [
    "# Kata 1: Traffic light"
   ]
  },
  {
   "cell_type": "markdown",
   "metadata": {},
   "source": [
    "## My solution"
   ]
  },
  {
   "cell_type": "code",
   "execution_count": 5,
   "metadata": {},
   "outputs": [
    {
     "data": {
      "text/plain": [
       "'red'"
      ]
     },
     "execution_count": 5,
     "metadata": {},
     "output_type": "execute_result"
    }
   ],
   "source": [
    "# input: current light \n",
    "# output: next light \n",
    "# strategy: use \"if\", \"elif\", \"else\"\n",
    "\n",
    "def update_light(current):\n",
    "    if current == \"green\":\n",
    "        return \"yellow\"\n",
    "    elif current == \"yellow\":\n",
    "        return \"red\"\n",
    "    elif current == \"red\":\n",
    "        return \"green\"\n",
    "    \n",
    "# test case:\n",
    "update_light(\"green\")\n",
    "update_light(\"red\")\n",
    "update_light(\"yellow\")\n",
    "\n",
    "# Codewars: passed!"
   ]
  },
  {
   "cell_type": "markdown",
   "metadata": {},
   "source": [
    "## Clever solutions"
   ]
  },
  {
   "cell_type": "code",
   "execution_count": 9,
   "metadata": {},
   "outputs": [
    {
     "data": {
      "text/plain": [
       "'blue is not a traffic light'"
      ]
     },
     "execution_count": 9,
     "metadata": {},
     "output_type": "execute_result"
    }
   ],
   "source": [
    "### ---- solution 1 --- ###\n",
    "# use a dictionary\n",
    "def update_light(current):\n",
    "    return {\"green\": \"yellow\", \"yellow\": \"red\", \"red\": \"green\"}[current]\n",
    "# current light is the key, next light is the value\n",
    "\n",
    "### ---- solution 2 --- ###\n",
    "# consider exceptions\n",
    "def update_light(current):\n",
    "    if current == \"green\":\n",
    "        return \"yellow\"\n",
    "    elif current == \"yellow\":\n",
    "        return \"red\"\n",
    "    elif current == \"red\":\n",
    "        return \"green\"\n",
    "    else:\n",
    "        return \"{} is not a traffic light\".format(current)\n",
    "    \n",
    "# test case:\n",
    "update_light(\"blue\")\n",
    "update_light(2)"
   ]
  },
  {
   "cell_type": "markdown",
   "metadata": {},
   "source": [
    "# Kata 2: Umbrella decider"
   ]
  },
  {
   "cell_type": "markdown",
   "metadata": {},
   "source": [
    "## My solution "
   ]
  },
  {
   "cell_type": "code",
   "execution_count": 22,
   "metadata": {},
   "outputs": [
    {
     "data": {
      "text/plain": [
       "False"
      ]
     },
     "execution_count": 22,
     "metadata": {},
     "output_type": "execute_result"
    }
   ],
   "source": [
    "# input: weather (\"rainy\", \"sunn\"y, \"cloudy\") and chance of rain\n",
    "# output: whether to bring an umbrella\n",
    "\n",
    "def take_umbrella(weather, rain_chance):\n",
    "    if weather == \"rainy\":\n",
    "        return True\n",
    "    elif weather == \"cloudy\" and rain_chance > 0.2:\n",
    "        return True\n",
    "    elif weather == \"sunny\" and rain_chance > 0.5:\n",
    "        return True\n",
    "    else:\n",
    "        return False\n",
    "    \n",
    "# test case:\n",
    "take_umbrella(\"cloudy\", 0.1)\n",
    "# Codewars: passed!"
   ]
  },
  {
   "cell_type": "markdown",
   "metadata": {},
   "source": [
    "## Clever solution "
   ]
  },
  {
   "cell_type": "code",
   "execution_count": 23,
   "metadata": {},
   "outputs": [
    {
     "data": {
      "text/plain": [
       "False"
      ]
     },
     "execution_count": 23,
     "metadata": {},
     "output_type": "execute_result"
    }
   ],
   "source": [
    "def take_umbrella(weather, rain_chance):\n",
    "    return (weather=='cloudy' and rain_chance>0.20) or weather=='rainy' or (weather=='sunny' and rain_chance>0.5)\n",
    "\n",
    "# test\n",
    "take_umbrella(\"cloudy\", 0.1)\n",
    "\n",
    "# Cool! I never thought to write compound logical expressions!\n",
    "# The idea is, you'll only bring an umbrella under 3 conditions:\n",
    "# 1. It's raining.\n",
    "# 2. It's cloudy and somewhat likely to rain.\n",
    "# 3. It's sunny but super likely to rain.\n",
    "# Write each condition first\n",
    "# And combine them with \"or\""
   ]
  },
  {
   "cell_type": "markdown",
   "metadata": {},
   "source": [
    "# Kata 3: Graceful addition"
   ]
  },
  {
   "cell_type": "markdown",
   "metadata": {},
   "source": [
    "## My solution"
   ]
  },
  {
   "cell_type": "code",
   "execution_count": 32,
   "metadata": {},
   "outputs": [
    {
     "name": "stdout",
     "output_type": "stream",
     "text": [
      "None\n"
     ]
    }
   ],
   "source": [
    "# input: two arguments, numbers or otherwise\n",
    "# output: if both are numbers, return sum; otherwise, handle the TypeError exception\n",
    "# strategy: use \"try\" + \"except\"\n",
    "def my_add(a, b):\n",
    "    try:\n",
    "        return a + b\n",
    "    except TypeError:\n",
    "        return None\n",
    "\n",
    "# test \n",
    "my_add(42, \" is the answer.\") \n",
    "print((my_add(42, \" is the answer.\"))) # can only see \"None\" via print()\n",
    "\n",
    "# Codewars: passed!"
   ]
  },
  {
   "cell_type": "markdown",
   "metadata": {},
   "source": [
    "# Kata 4: Red and bumpy"
   ]
  },
  {
   "cell_type": "markdown",
   "metadata": {},
   "source": [
    "## My solution "
   ]
  },
  {
   "cell_type": "code",
   "execution_count": 42,
   "metadata": {},
   "outputs": [
    {
     "data": {
      "text/plain": [
       "'0.33'"
      ]
     },
     "execution_count": 42,
     "metadata": {},
     "output_type": "execute_result"
    }
   ],
   "source": [
    "# input: texture (known) + color (we'll estmate the probability of the marble being that color) \n",
    "# output: conditional probability P（color|texture）as a string with two decimal places\n",
    "# strategy: \n",
    "  ## if smooth, write out the probability of each color; if bumpy, write another set of probabilities\n",
    "  ## take account of illegal inputs (wrong color, wrong texture, not even a string, etc.)\n",
    "  ## convert decimals to string\n",
    "  ## slice the string\n",
    "    \n",
    "def color_probability(color, texture):\n",
    "    if texture == \"smooth\":\n",
    "        if color == \"red\":\n",
    "            return str(1/3)[0:4]\n",
    "        elif color == \"yellow\":\n",
    "            return str(1/3)[0:4]\n",
    "        elif color == \"green\":\n",
    "            return str(1/3)[0:4]\n",
    "        else:\n",
    "            return '{} is a not legal marble color'.format(color)\n",
    "    elif texture == \"bumpy\":\n",
    "        if color == \"red\":\n",
    "            return str(4/7)[0:4]\n",
    "        elif color == \"yellow\":\n",
    "            return str(2/7)[0:4]\n",
    "        elif color == \"green\":\n",
    "            return str(1/7)[0:4]\n",
    "        else:\n",
    "            return '{} is a not legal marble color'.format(color)\n",
    "    else:\n",
    "        return '{} is a not legal marble texture'.format(texture)\n",
    "\n",
    "# test case\n",
    "color_probability(\"yellow\", \"smooth\")\n",
    "\n",
    "# Codewars: passed!"
   ]
  },
  {
   "cell_type": "markdown",
   "metadata": {},
   "source": [
    "## Clever solution "
   ]
  },
  {
   "cell_type": "code",
   "execution_count": null,
   "metadata": {},
   "outputs": [],
   "source": [
    "def color_probability(color, texture):\n",
    "    marbles = {\"smooth\": {\"red\": 1, \"yellow\": 1, \"green\": 1, \"total\": 3}, \"bumpy\": {\"red\": 4, \"yellow\": 2, \"green\": 1, \"total\": 7}}\n",
    "    return \"{}\".format(marbles[texture][color] / marbles[texture][\"total\"])[:4]\n",
    "\n",
    "# Wow! This made me realized how useful dictionaries are!\n",
    "# The author used each texture as a key whose value is another dictionary...\n",
    "# ... where the keys are the colors and values are their corresponding numbers\n",
    "# Inputs \"color\" and \"texture\" are used to retrieve the number of marbales of the said color and texture\n",
    "# That number is then divided by the total number of marbles of the said texture\n",
    "# This solution is cool not just because of its efficiency\n",
    "# But also a proper understanding of conditional probability \n",
    "# Writing code like this is my goal!"
   ]
  },
  {
   "cell_type": "markdown",
   "metadata": {},
   "source": [
    "# Kata 5: Hacking p-hackers"
   ]
  },
  {
   "cell_type": "markdown",
   "metadata": {},
   "source": [
    "## My solution"
   ]
  },
  {
   "cell_type": "code",
   "execution_count": 60,
   "metadata": {},
   "outputs": [
    {
     "data": {
      "text/plain": [
       "'Fine'"
      ]
     },
     "execution_count": 60,
     "metadata": {},
     "output_type": "execute_result"
    }
   ],
   "source": [
    "# input: p-value (float: [0, 1]) and # of requirements met (int: 0-6) \n",
    "# output: categorize the paper as \"Fine\", \"Needs review\", or \"Pants on fire\"\n",
    "# strategies -- \n",
    "\n",
    "## straightforward: calculate bs-factor * p -> write one branch for requirments = 0 and another for requirements > 0\n",
    "def categorize_study(p_value, requirements):\n",
    "    bs_factor = 2 ** (6 - requirements)\n",
    "    product = p_value * bs_factor\n",
    "    if requirements > 0:\n",
    "        if product < 0.05:\n",
    "            return \"Fine\"\n",
    "        elif product >= 0.05 and product < 0.15:\n",
    "            return \"Needs review\"\n",
    "        else:\n",
    "            return \"Pants on fire\"\n",
    "    else:\n",
    "        if product > 0.15:\n",
    "            return \"Pants on fire\"\n",
    "        else:\n",
    "            return \"Needs review\"        \n",
    "# test case\n",
    "categorize_study(0.012, 0)\n",
    "# Codewars: passed!\n",
    "        \n",
    "## change the angle: when will a study be categorized as \"Fine\", \"Needs review\", or \"Pants on fire\"?\n",
    "def categorize_study(p_value, requirements):    \n",
    "    bs_factor = 2 ** (6 - requirements)\n",
    "    product = p_value * bs_factor\n",
    "    if requirements > 0 and product < 0.05:\n",
    "        return \"Fine\"\n",
    "    elif product >= 0.15:\n",
    "        return \"Pants on fire\"\n",
    "    else:\n",
    "        return \"Needs review\"\n",
    "# test case\n",
    "categorize_study(0.012, 5)\n",
    "# Codewars: passed!"
   ]
  },
  {
   "cell_type": "markdown",
   "metadata": {},
   "source": [
    "## Clever solution "
   ]
  },
  {
   "cell_type": "code",
   "execution_count": null,
   "metadata": {},
   "outputs": [],
   "source": [
    "def categorize_study(p_value, requirements):\n",
    "    study_value = p_value * (2**(6-requirements))\n",
    "    \n",
    "    if study_value < 0.05 and requirements != 0:\n",
    "        return \"Fine\"\n",
    "    elif study_value < 0.05 and requirements == 0:\n",
    "        return \"Needs review\"\n",
    "    elif study_value > 0.05 and study_value < 0.15:\n",
    "        return \"Needs review\"\n",
    "    else:\n",
    "        return \"Pants on fire\"\n",
    "    \n",
    "# the basic idea is similar to mine: think in terms of when a study belongs to a certain category\n",
    "# upon a closer look, this solution has\n",
    "# 1. better variable names: \"study_value\" is more informative than \"product\"\n",
    "# 2. clearer logic:\n",
    "# I defined the extreme cases (\"Fine\" \"Pants on fire\") and chalked up everything else to \"Needs review\"\n",
    "# This solution dealt with each category in order"
   ]
  }
 ],
 "metadata": {
  "kernelspec": {
   "display_name": "Python 3",
   "language": "python",
   "name": "python3"
  },
  "language_info": {
   "codemirror_mode": {
    "name": "ipython",
    "version": 3
   },
   "file_extension": ".py",
   "mimetype": "text/x-python",
   "name": "python",
   "nbconvert_exporter": "python",
   "pygments_lexer": "ipython3",
   "version": "3.6.1"
  }
 },
 "nbformat": 4,
 "nbformat_minor": 2
}
