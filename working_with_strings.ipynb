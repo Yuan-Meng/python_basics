{
 "cells": [
  {
   "cell_type": "markdown",
   "metadata": {},
   "source": [
    "# Python: Working with Strings\n",
    "## Yuan Meng \n",
    "## Sept. 18, 2019"
   ]
  },
  {
   "cell_type": "markdown",
   "metadata": {},
   "source": [
    "# Kata 1: Hello World "
   ]
  },
  {
   "cell_type": "code",
   "execution_count": 13,
   "metadata": {},
   "outputs": [
    {
     "data": {
      "text/plain": [
       "'Hello, Yuan'"
      ]
     },
     "execution_count": 13,
     "metadata": {},
     "output_type": "execute_result"
    }
   ],
   "source": [
    "# input: one argument - a name (string)\n",
    "# output: generate a string saying hello to this person\n",
    "# strategy: use {} as the place holder for the name\n",
    "\n",
    "def hello(name):\n",
    "    return \"Hello, {}\".format(name)\n",
    "\n",
    "# test example:\n",
    "hello(\"Yuan\")\n",
    "# results on Codewars: passed!"
   ]
  },
  {
   "cell_type": "markdown",
   "metadata": {},
   "source": [
    "# Kata 2: Quotable"
   ]
  },
  {
   "cell_type": "code",
   "execution_count": 67,
   "metadata": {},
   "outputs": [
    {
     "name": "stdout",
     "output_type": "stream",
     "text": [
      "Reviewer #2 said: \"Your discipline doesn't exist\"\n"
     ]
    }
   ],
   "source": [
    "# input: two arguments - a name (string) and a quote (string)\n",
    "# output: generate a string quoting this person\n",
    "# my strategy: use {} as place holders for the name and the quote, respectively \n",
    "\n",
    "def quotable(name, quote):\n",
    "    return '{} said: \"{}\"'.format(name, quote)\n",
    "\n",
    "# test example\n",
    "quotable(\"Reviewer #2\", \"Your discipline doesn't exist\")\n",
    "# results on Codewars: passed!\n",
    "# interestingly, the console shows \"\\''\"; to see the actual string, use print()\n",
    "print(quotable(\"Reviewer #2\", \"Your discipline doesn't exist\"))"
   ]
  },
  {
   "cell_type": "markdown",
   "metadata": {},
   "source": [
    "# Kata 3: Repeater"
   ]
  },
  {
   "cell_type": "code",
   "execution_count": 16,
   "metadata": {},
   "outputs": [
    {
     "data": {
      "text/plain": [
       "'ahhhhahhhhahhhhahhhhahhhh'"
      ]
     },
     "execution_count": 16,
     "metadata": {},
     "output_type": "execute_result"
    }
   ],
   "source": [
    "# input: two arguments - the original string (string) and how manys it will be repeated (integer)\n",
    "# output: repeat the original string the said times\n",
    "# my strategy\n",
    "  ## use {} as the place holder for the repeated string\n",
    "  ## multiply the string by the given number to repeat it \n",
    "def repeater(string, n):\n",
    "    return string * n\n",
    "\n",
    "# test example\n",
    "repeater(\"ahhhh\", 5)\n",
    "# results on Codewars: passed!"
   ]
  },
  {
   "cell_type": "markdown",
   "metadata": {},
   "source": [
    "# Kata 4: Repeater level 2"
   ]
  },
  {
   "cell_type": "code",
   "execution_count": 20,
   "metadata": {},
   "outputs": [
    {
     "data": {
      "text/plain": [
       "'\"ahhhh\" repeated 5 times is: \"ahhhhahhhhahhhhahhhhahhhh\"'"
      ]
     },
     "execution_count": 20,
     "metadata": {},
     "output_type": "execute_result"
    }
   ],
   "source": [
    "# input: two arguments - the original string (string) and how manys it will be repeated (integer)\n",
    "# output: display the original string, the number of repetition, and the new string\n",
    "# my strategy\n",
    "  ## use {} as place holders for 3 outputs\n",
    "  ## generate the repeated string the same way before \n",
    "\n",
    "def repeater(string, n):\n",
    "    return '\"{}\" repeated {} times is: \"{}\"'.format(string, n, string * n) \n",
    "\n",
    "# test example\n",
    "repeater(\"ahhhh\", 5)\n",
    "# results on Codewars: passed!"
   ]
  },
  {
   "cell_type": "markdown",
   "metadata": {},
   "source": [
    "# Kata 5: Jedi name"
   ]
  },
  {
   "cell_type": "code",
   "execution_count": 22,
   "metadata": {},
   "outputs": [
    {
     "data": {
      "text/plain": [
       "'Greetings, master MenYu'"
      ]
     },
     "execution_count": 22,
     "metadata": {},
     "output_type": "execute_result"
    }
   ],
   "source": [
    "# input: two arguments - first name (string) and last (name)\n",
    "# output: greeting the person with their new jedi name\n",
    "# my strategy\n",
    "  ## generate a jedi name by slicing the first and the last names and joining them\n",
    "  ## insert the new jedi name into the greeting\n",
    "\n",
    "def greet_jedi(first, last):\n",
    "    jedi_name = last[0:3].capitalize() + first[0:2].capitalize() # must capitalize beginning of each part\n",
    "    return 'Greetings, master {}'.format(jedi_name)\n",
    "\n",
    "# test example\n",
    "greet_jedi(\"Yuan\", \"Meng\")\n",
    "# results on Codewars: passed!"
   ]
  },
  {
   "cell_type": "code",
   "execution_count": 23,
   "metadata": {},
   "outputs": [
    {
     "data": {
      "text/plain": [
       "'Greetings, master MenYu'"
      ]
     },
     "execution_count": 23,
     "metadata": {},
     "output_type": "execute_result"
    }
   ],
   "source": [
    "# saw a cleverer solution\n",
    "\n",
    "def greet_jedi(first, last):\n",
    "    return \"Greetings, master {}{}\".format(last[:3].capitalize(), first[:2].capitalize())\n",
    "\n",
    "# test example\n",
    "greet_jedi(\"Yuan\", \"Meng\")\n",
    "# I generated a jedi name first and inserted it as a whole into the new string\n",
    "# this person treated a jedi name as consisted of two parts and inserted each part into the new string"
   ]
  },
  {
   "cell_type": "markdown",
   "metadata": {},
   "source": [
    "# Kata 6: Areacode extractor"
   ]
  },
  {
   "cell_type": "code",
   "execution_count": 28,
   "metadata": {},
   "outputs": [
    {
     "data": {
      "text/plain": [
       "'626'"
      ]
     },
     "execution_count": 28,
     "metadata": {},
     "output_type": "execute_result"
    }
   ],
   "source": [
    "# input: a string containing a phone number with areacode wrapped by parentheses \n",
    "# output: the areacode\n",
    "# my strategy:\n",
    "  ## noticed that areacode begins withs \"(\" and ends with \")\"\n",
    "  ## find the indices of \"(\" and \")\"\n",
    "  ## slide the input string accordingly\n",
    "\n",
    "def area_code(text):\n",
    "    return text[text.find(\"(\") + 1:text.find(\")\")]\n",
    "\n",
    "# test example\n",
    "area_code(\"Yuan's number is (626) 675 4914\")\n",
    "# results on Codewars: passed!"
   ]
  },
  {
   "cell_type": "markdown",
   "metadata": {},
   "source": [
    "# Kata 7: Poem formatter"
   ]
  },
  {
   "cell_type": "code",
   "execution_count": 60,
   "metadata": {},
   "outputs": [
    {
     "name": "stdout",
     "output_type": "stream",
     "text": [
      "Beautiful is better than ugly.\n",
      "Explicit is better than implicit.\n",
      "Simple is better than complex.\n",
      "Complex is better than complicated.\n"
     ]
    }
   ],
   "source": [
    "# input: a long string without line breaks\n",
    "# output: a new long string with line breaks\n",
    "# my strategy:\n",
    "  ## split the original strings into lists separate by \". \"\n",
    "  ## join the strings by \".\\n\"\n",
    "\n",
    "def format_poem(poem):\n",
    "    return \".\\n\".join(poem.split(\". \"))\n",
    "    \n",
    "#test example\n",
    "format_poem(\"Beautiful is better than ugly. Explicit is better than implicit. Simple is better than complex. Complex is better than complicated.\")\n",
    "# results on Codewars: passed!\n",
    "# again, the console shows \"\\n\"; to see the actual string, use print()\n",
    "print(format_poem(\"Beautiful is better than ugly. Explicit is better than implicit. Simple is better than complex. Complex is better than complicated.\"))"
   ]
  }
 ],
 "metadata": {
  "kernelspec": {
   "display_name": "Python 3",
   "language": "python",
   "name": "python3"
  },
  "language_info": {
   "codemirror_mode": {
    "name": "ipython",
    "version": 3
   },
   "file_extension": ".py",
   "mimetype": "text/x-python",
   "name": "python",
   "nbconvert_exporter": "python",
   "pygments_lexer": "ipython3",
   "version": "3.6.1"
  }
 },
 "nbformat": 4,
 "nbformat_minor": 2
}
