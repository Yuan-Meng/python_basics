{
 "cells": [
  {
   "cell_type": "markdown",
   "metadata": {},
   "source": [
    "# Lists, loops, and interations\n",
    "## Yuan Meng\n",
    "## Sept. 21, 2019"
   ]
  },
  {
   "cell_type": "markdown",
   "metadata": {},
   "source": [
    "# Kata 1: Longest word"
   ]
  },
  {
   "cell_type": "markdown",
   "metadata": {},
   "source": [
    "## My solutions"
   ]
  },
  {
   "cell_type": "code",
   "execution_count": 38,
   "metadata": {},
   "outputs": [
    {
     "data": {
      "text/plain": [
       "6"
      ]
     },
     "execution_count": 38,
     "metadata": {},
     "output_type": "execute_result"
    }
   ],
   "source": [
    "# input: a list of words\n",
    "# output: length of the longest word\n",
    "\n",
    "###---strategy 1---###\n",
    "# iterate through the list\n",
    "# store the length of each word into a list\n",
    "# sort the list (small -> large)\n",
    "# return the last item\n",
    "\n",
    "def longest(words):\n",
    "    word_length = [] # originally put this outside the function, which didn't work\n",
    "    for word in words:\n",
    "        word_length.append(len(word))\n",
    "    word_length.sort()\n",
    "    return word_length[-1]\n",
    "\n",
    "# test case\n",
    "longest(['it', 'not', 'better', 'pass', 'a', 'simple'])\n",
    "# Codewars: passed!\n",
    "\n",
    "###---strategy 2---###\n",
    "# sort list by length (short -> long)\n",
    "# get the length of the last item \n",
    "def longest(words):\n",
    "    words.sort(key = len)\n",
    "    return len(words[-1])\n",
    "\n",
    "# test case\n",
    "longest(['it', 'not', 'better', 'pass', 'a', 'simple'])\n",
    "# Codewars: passed!"
   ]
  },
  {
   "cell_type": "markdown",
   "metadata": {},
   "source": [
    "## Clever solutions"
   ]
  },
  {
   "cell_type": "code",
   "execution_count": 33,
   "metadata": {},
   "outputs": [
    {
     "data": {
      "text/plain": [
       "6"
      ]
     },
     "execution_count": 33,
     "metadata": {},
     "output_type": "execute_result"
    }
   ],
   "source": [
    "###---solution 1---###\n",
    "def longest(words):\n",
    "    return max(map(len, words))\n",
    "# map(function, input): turns one set into another according to the given function \n",
    "# max(): returns the maximum value\n",
    "\n",
    "###---solution 2---###\n",
    "def longest(words):\n",
    "    max_length = 0\n",
    "    for word in words:\n",
    "        if len(word) > max_length:\n",
    "            max_length = len(word)\n",
    "    return max_length\n",
    "# this is closet to my first solution\n",
    "# iterate through the list\n",
    "# preset length of longest (max_length) word to 0 \n",
    "# update max_length if current length is larger"
   ]
  },
  {
   "cell_type": "markdown",
   "metadata": {},
   "source": [
    "# Kata 2: Grade calculator"
   ]
  },
  {
   "cell_type": "markdown",
   "metadata": {},
   "source": [
    "## My solutions"
   ]
  },
  {
   "cell_type": "code",
   "execution_count": 37,
   "metadata": {},
   "outputs": [
    {
     "data": {
      "text/plain": [
       "'F'"
      ]
     },
     "execution_count": 37,
     "metadata": {},
     "output_type": "execute_result"
    }
   ],
   "source": [
    "# input: a student's test scores (any length)\n",
    "# output: their letter grade\n",
    "\n",
    "###---strategy 1---###\n",
    "# calculate total score:\n",
    "  # start with a total of 0\n",
    "  # iterate through the list\n",
    "  # add each score to the total \n",
    "# get mean score: divide total score by number of tests\n",
    "# assign a letter grade according to mean score\n",
    "def calculate_grade(scores):\n",
    "    total_score = 0\n",
    "    for score in scores:\n",
    "        total_score += score\n",
    "    mean_score = total_score/len(scores)\n",
    "    if mean_score >= 90:\n",
    "        return \"A\"\n",
    "    elif mean_score >= 80 and mean_score < 90:\n",
    "        return \"B\"\n",
    "    elif mean_score >= 70 and mean_score < 80:\n",
    "        return \"C\"\n",
    "    elif mean_score >= 60 and mean_score < 70:\n",
    "        return \"D\"\n",
    "    else:\n",
    "        return \"F\"\n",
    "\n",
    "# test case:\n",
    "calculate_grade([50, 55]) \n",
    "# Codewars: passed!\n",
    "\n",
    "###---strategy 2---###\n",
    "# calculate mean score: divide the sum of the list by its length\n",
    "# assign a letter grade according to mean score\n",
    "def calculate_grade(scores):\n",
    "    mean_score = sum(scores)/len(scores)\n",
    "    if mean_score >= 90:\n",
    "        return \"A\"\n",
    "    elif mean_score >= 80 and mean_score < 90:\n",
    "        return \"B\"\n",
    "    elif mean_score >= 70 and mean_score < 80:\n",
    "        return \"C\"\n",
    "    elif mean_score >= 60 and mean_score < 70:\n",
    "        return \"D\"\n",
    "    else:\n",
    "        return \"F\"\n",
    "\n",
    "# test case:\n",
    "calculate_grade([50, 55]) \n",
    "# Codewars: passed!"
   ]
  },
  {
   "cell_type": "markdown",
   "metadata": {},
   "source": [
    "## Clever solution"
   ]
  },
  {
   "cell_type": "code",
   "execution_count": 43,
   "metadata": {},
   "outputs": [
    {
     "name": "stdout",
     "output_type": "stream",
     "text": [
      "D\n",
      "C\n",
      "B\n",
      "A\n"
     ]
    }
   ],
   "source": [
    "from bisect import bisect\n",
    "from statistics import mean\n",
    "\n",
    "def calculate_grade(scores):\n",
    "    return 'FDCBA'[bisect([60, 70, 80, 90], mean(scores))]\n",
    "\n",
    "# According to https://docs.python.org/3.0/library/bisect.html\n",
    "# The bisect() function is useful for categorizing numeric data\n",
    "# In front of bisect() there's a list of categories (n)\n",
    "# Inside bisect(), the first argument is cut-off points (n-1)\n",
    "# The second argument is the numeric data to be categorized \n",
    "\n",
    "# Curious: How does the function behave at cut-off points?\n",
    "# Test cases:\n",
    "print(calculate_grade([60]))\n",
    "print(calculate_grade([70]))\n",
    "print(calculate_grade([80]))\n",
    "print(calculate_grade([90]))\n",
    "# The cut-off method seems to be:\n",
    "# category 1: (-inf, point 1)\n",
    "# category 2: [point 1, point 2)\n",
    "# category 3: [point 2, point 3)\n",
    "# category 4: [point 3, point 4)\n",
    "# category 5: [point 4, +inf)"
   ]
  },
  {
   "cell_type": "markdown",
   "metadata": {},
   "source": [
    "# Kata 3: Lists of lists"
   ]
  },
  {
   "cell_type": "markdown",
   "metadata": {},
   "source": [
    "## My solution"
   ]
  },
  {
   "cell_type": "code",
   "execution_count": 45,
   "metadata": {},
   "outputs": [
    {
     "data": {
      "text/plain": [
       "28"
      ]
     },
     "execution_count": 45,
     "metadata": {},
     "output_type": "execute_result"
    }
   ],
   "source": [
    "# input: a list with sublists, where each sublists have exactly 2 integers \n",
    "# output: the product the difference (item 1 - item 2) in each sublist\n",
    "\n",
    "###---strategy 1---###\n",
    "# iterate through the list\n",
    "  # calculate (item 1 - item 2) for each sublist\n",
    "  # use an empty list to collect these differences\n",
    "# iterate through the difference list\n",
    "  # start with 1\n",
    "  # multiply each list item by the previous one \n",
    "  # return the final product\n",
    "\n",
    "def process_data(data):\n",
    "    differences = []\n",
    "    for datum in data:\n",
    "        differences.append(datum[0]-datum[1])\n",
    "    product = 1\n",
    "    for difference in differences:\n",
    "        product *= difference \n",
    "    return product \n",
    "\n",
    "# test case:\n",
    "process_data([[2, 9], [2, 4], [7, 5]])\n",
    "# Codewars: passed!\n",
    "\n",
    "###---strategy 2---###\n",
    "# iterate through the list\n",
    "  # begin with a product of 1\n",
    "  # for each sublist, calculate item 1 - item 2\n",
    "  # multiply each difference by the previous one\n",
    "  # return the final product\n",
    "def process_data(data):\n",
    "    product = 1\n",
    "    for datum in data:\n",
    "        product *= datum[0] - datum[1]\n",
    "    return product \n",
    "\n",
    "# test case:\n",
    "process_data([[2, 9], [2, 4], [7, 5]])\n",
    "# Codewars: passed!"
   ]
  },
  {
   "cell_type": "markdown",
   "metadata": {},
   "source": [
    "# Kata 4: Inverse slicer"
   ]
  },
  {
   "cell_type": "markdown",
   "metadata": {},
   "source": [
    "## My solution"
   ]
  },
  {
   "cell_type": "code",
   "execution_count": 88,
   "metadata": {},
   "outputs": [
    {
     "data": {
      "text/plain": [
       "[12, 14]"
      ]
     },
     "execution_count": 88,
     "metadata": {},
     "output_type": "execute_result"
    }
   ],
   "source": [
    "# input: a list (items), index a, index b (a and b are different integers)\n",
    "# output: a new list with items[a:b] excluded\n",
    "# caveats: \n",
    "  # a or b may be 0\n",
    "  # a or b may be greater than len(items)\n",
    "  # a may not be smaller than b\n",
    "# strategy \n",
    "# basic idea:\n",
    "  # first half: items[:a]\n",
    "  # second half: items[b:]\n",
    "  # new list: items[:a] + items[b:]\n",
    "def inverse_slice(items, a, b):\n",
    "    return items[:min([a,b])] + items[max([a,b]):]\n",
    "\n",
    "# test case\n",
    "inverse_slice([12, 14, 63, 72, 55, 24], 134, 2)\n",
    "# Codewars: passed!\n",
    "\n",
    "# now, do we need to handle special cases? If so, how?\n",
    "  # case 1: min([a,b]) == 0 -- no need to do anything special!\n",
    "    # items[:0] == [], so the new list is items[b:]\n",
    "    # which is how it should be: \n",
    "    # the reverse slice collects whatever is left out by the original slide\n",
    "    # since the original slice starts from the very beginning of the list\n",
    "    # there's nothing to collect from the beginning\n",
    "  # case 2: a or b > len(items) -- nothing special to do, either!\n",
    "    # slicing a list using an index larger than the list length returns []\n",
    "    # since the original slice ends after the entire list\n",
    "    # there's nothing in the end for the reverse list to collect \n",
    "# I thought of the solution within 2 minutes\n",
    "# however, I spent too trying to deal with \"special cases\"\n",
    "# lesson learned: it's important to consider edge cases; however, actions are not always required!"
   ]
  }
 ],
 "metadata": {
  "kernelspec": {
   "display_name": "Python 3",
   "language": "python",
   "name": "python3"
  },
  "language_info": {
   "codemirror_mode": {
    "name": "ipython",
    "version": 3
   },
   "file_extension": ".py",
   "mimetype": "text/x-python",
   "name": "python",
   "nbconvert_exporter": "python",
   "pygments_lexer": "ipython3",
   "version": "3.6.1"
  }
 },
 "nbformat": 4,
 "nbformat_minor": 2
}
