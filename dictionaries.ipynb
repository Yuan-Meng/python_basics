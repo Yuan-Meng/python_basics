{
 "cells": [
  {
   "cell_type": "markdown",
   "metadata": {},
   "source": [
    "# Working with dictionaries\n",
    "## Yuan Meng\n",
    "## Sept. 21, 2019"
   ]
  },
  {
   "cell_type": "markdown",
   "metadata": {},
   "source": [
    "# Kata 1: Order filler"
   ]
  },
  {
   "cell_type": "markdown",
   "metadata": {},
   "source": [
    "## My solution"
   ]
  },
  {
   "cell_type": "code",
   "execution_count": 3,
   "metadata": {},
   "outputs": [
    {
     "data": {
      "text/plain": [
       "False"
      ]
     },
     "execution_count": 3,
     "metadata": {},
     "output_type": "execute_result"
    }
   ],
   "source": [
    "# input: merchanise I have, what customers want to buy, and how many they want to buy\n",
    "# output: whether I can complete the sale\n",
    "# strategy: \n",
    "# check if merch is in stock\n",
    "  # no: False\n",
    "  # yes: check if value >= n\n",
    "    # yes: True\n",
    "    # no: False\n",
    "def fillable(stock, merch, n):\n",
    "    if merch not in stock:\n",
    "        return False\n",
    "    else:\n",
    "        if stock[merch] >= n:\n",
    "            return True\n",
    "        else:\n",
    "            return False\n",
    "\n",
    "# test case\n",
    "stock = {\n",
    "    'football': 4,\n",
    "    'boardgame': 10,\n",
    "    'leggos': 1,\n",
    "    'doll': 5,\n",
    "}\n",
    "\n",
    "fillable(stock, 'leggos', 2)\n",
    "# Codewars: passed!"
   ]
  },
  {
   "cell_type": "markdown",
   "metadata": {},
   "source": [
    "## Clever solutions"
   ]
  },
  {
   "cell_type": "code",
   "execution_count": null,
   "metadata": {},
   "outputs": [],
   "source": [
    "###---solution 1---###\n",
    "def fillable(stock, merch, n):\n",
    "    return stock.get(merch, 0) >= n\n",
    "# this solution uses the get() method that I didn't know \n",
    "# here's the syntax: dict.get(key[, value]) \n",
    "# the given key will be searched\n",
    "# if found, return the value paired with the key\n",
    "# if not found, return the given value (if not given, default is None)\n",
    "# so behavior of this solution:\n",
    "# if no such merch, return 0, which won't be greater than n\n",
    "# if merch found, then the number will be compared against n\n",
    "\n",
    "###---solution 2---###\n",
    "def fillable(stock, merch, n):\n",
    "    return merch in stock and stock[merch] >= n\n",
    "# this solution uses all functions I know\n",
    "# it uses compound logic in a clever way\n",
    "# and shows true understanding of what order is fillable:\n",
    "# merch is in stock AND the number is greater than or equal to what is requested"
   ]
  },
  {
   "cell_type": "markdown",
   "metadata": {},
   "source": [
    "# Kata 2: User contacts"
   ]
  },
  {
   "cell_type": "markdown",
   "metadata": {},
   "source": [
    "## My solution"
   ]
  },
  {
   "cell_type": "code",
   "execution_count": 15,
   "metadata": {},
   "outputs": [
    {
     "data": {
      "text/plain": [
       "{'Alex Nussbacher': 94101,\n",
       " 'Bethany Kok': None,\n",
       " 'Darrell Silver': 11201,\n",
       " 'Grae Drake': 98110}"
      ]
     },
     "execution_count": 15,
     "metadata": {},
     "output_type": "execute_result"
    }
   ],
   "source": [
    "# input: a 2D list of user names and zip codes\n",
    "# output: a dictionary with the same info\n",
    "# strategy\n",
    "# create an empty dictionary\n",
    "# iterate through the list\n",
    "# try to assign a zipcode to a name\n",
    "# if IndexError (no zipcode), assign None to the name\n",
    "def user_contacts(data):\n",
    "    info_dict = {}\n",
    "    for datum in data:\n",
    "        try: \n",
    "            info_dict[datum[0]] = datum[1]\n",
    "        except IndexError:\n",
    "            info_dict[datum[0]] = None        \n",
    "    return info_dict\n",
    "\n",
    "# test case\n",
    "data = [[\"Grae Drake\", 98110], [\"Bethany Kok\"], [\"Alex Nussbacher\", 94101], [\"Darrell Silver\", 11201]]\n",
    "user_contacts(data)\n",
    "# Codewars: passed!"
   ]
  },
  {
   "cell_type": "markdown",
   "metadata": {},
   "source": [
    "## Clever solutions"
   ]
  },
  {
   "cell_type": "code",
   "execution_count": 16,
   "metadata": {},
   "outputs": [
    {
     "data": {
      "text/plain": [
       "{'Alex Nussbacher': 94101,\n",
       " 'Bethany Kok': None,\n",
       " 'Darrell Silver': 11201,\n",
       " 'Grae Drake': 98110}"
      ]
     },
     "execution_count": 16,
     "metadata": {},
     "output_type": "execute_result"
    }
   ],
   "source": [
    "###---solution 1---###\n",
    "def user_contacts(data):\n",
    "    return {contact[0]: contact[1] if len(contact) > 1 else None\n",
    "            for contact in data}\n",
    "\n",
    "# didn't know you can write a for loop in such a condensed way!\n",
    "# idea: create such a dictionary\n",
    "  # where the key is the first item in each list\n",
    "  # and the value \n",
    "    # is either the second item \n",
    "    # or if it doesn't exist (len(contact) < 2), None\n",
    "    \n",
    "###---solution 2---###\n",
    "def user_contacts(data):\n",
    "    info_dict = {}\n",
    "    for datum in data:\n",
    "        info_dict[datum[0]] = datum[1] if len(datum) == 2 else None\n",
    "    return info_dict\n",
    "\n",
    "# this solution is close to mine\n",
    "# didn't know you can use \"if\" \"else\" when assigning values!"
   ]
  },
  {
   "cell_type": "markdown",
   "metadata": {},
   "source": [
    "# Kata 3: Multiple modes"
   ]
  },
  {
   "cell_type": "markdown",
   "metadata": {},
   "source": [
    "## My solution"
   ]
  },
  {
   "cell_type": "code",
   "execution_count": 67,
   "metadata": {},
   "outputs": [
    {
     "data": {
      "text/plain": [
       "[]"
      ]
     },
     "execution_count": 67,
     "metadata": {},
     "output_type": "execute_result"
    }
   ],
   "source": [
    "# input: a sequence like a string or a list of numbers \n",
    "# output: a sorted list containing the mode(s) (if no modes, return empty list)\n",
    "# strategy: all I can think of is the most hideous solution ever... \n",
    "# first, let's create a dictionary with counts (values) of unique items (keys)\n",
    "  # to do so, create a dictionary whose key is the first item with an initial value of 0\n",
    "  # iterate through the list or string\n",
    "    # if a key exists, increase the old value by 1\n",
    "    # if a key doesn't exist, create a new item with this key and a value of 1\n",
    "  # in the end, we'll an unordered dictionary with unique items and their counts\n",
    "# then, we need to get an ordered list of all keys whose values are the maximum count\n",
    "# note that all counts are the same, no mode exist\n",
    "   # if max = min, no mode exists: return []\n",
    "   # if the above is not true, use list comprehension to get all keys with a value of the maximum count\n",
    "   # be sure to sort the dictionary so the list of keys is in order\n",
    "\n",
    "def modes(data):\n",
    "    # count the number of each UNIQUE item\n",
    "    item_count = {data[0]: 0}\n",
    "    for datum in data:\n",
    "        if datum in item_count:\n",
    "            item_count[datum] += 1\n",
    "        else:\n",
    "            item_count[datum] = 1\n",
    "    # if max = min, no modes exists \n",
    "    if max(list(item_count.values())) == min(list(item_count.values())):\n",
    "        return []\n",
    "    else:\n",
    "        # use list comprehension to find key lists \n",
    "        return [key for (key, value) in sorted(item_count.items()) if value == max(list(item_count.values()))]\n",
    "\n",
    "# test case\n",
    "modes([8, 8, 6, 6, 6, 8])\n",
    "# Codewars: passed! (Had to Google list comprehension)      "
   ]
  },
  {
   "cell_type": "markdown",
   "metadata": {},
   "source": [
    "## Clever solutions"
   ]
  },
  {
   "cell_type": "code",
   "execution_count": null,
   "metadata": {},
   "outputs": [],
   "source": [
    "###---solution 1---###\n",
    "from collections import Counter\n",
    "\n",
    "def modes(data):\n",
    "    cnts = Counter(data)\n",
    "    mx, mn = max(cnts.values()), min(cnts.values())\n",
    "    return sorted([k for k in cnts if cnts[k] == mx and cnts[k] != mn])\n",
    "\n",
    "# kinda cheating... Counter() tallies data into the desired dictionary in one go \n",
    "# efficient way to assign values: variable_1, variable_2 = value_1, value_2\n",
    "# super condensed way of using for a loop\n",
    "  # k is each key value in cnts\n",
    "  # we accept a key if its corresponding value is the maximum count but not the minimum count\n",
    "  # in the end, we get all the modes -- keys with largest counts\n",
    "  # if all counts are the same, then we don't have modes (b/c cnts[k] == mn)\n",
    "\n",
    "###---solution 2---###\n",
    "def modes(data):\n",
    "    frequency = {}\n",
    "    mode_list = []\n",
    "    \n",
    "    # adds or creates a counter for each character\n",
    "    for da in data:\n",
    "        if d in frequency:\n",
    "            frequency[d] += 1\n",
    "        else:\n",
    "            frequency[d] = 1\n",
    "    \n",
    "    # adds modes from the dictionary to a list, and checks that there is a mode\n",
    "    for f in frequency:\n",
    "        if frequency[f] == max(frequency.values()) > min(frequency.values()):\n",
    "            mode_list.append(f)\n",
    "            \n",
    "    return sorted(mode_list)\n",
    "\n",
    "# the first part basically how I count the frequency of each unique item!\n",
    "  # with one difference: you can just use {} to initialize the frequency dictionary\n",
    "  # by contrast, I used {data[0]: 0}, which is unncessary\n",
    "# I used list comprehension to help find keys with maximun counts\n",
    "# turns out more elementary methods would suffice \n",
    "  # for each unique item \n",
    "  # if its count is at maximum (which should also be greater than min)\n",
    "  # then add this item to the mode list\n",
    "  # if all max = min, we'd have an empty list "
   ]
  }
 ],
 "metadata": {
  "kernelspec": {
   "display_name": "Python 3",
   "language": "python",
   "name": "python3"
  },
  "language_info": {
   "codemirror_mode": {
    "name": "ipython",
    "version": 3
   },
   "file_extension": ".py",
   "mimetype": "text/x-python",
   "name": "python",
   "nbconvert_exporter": "python",
   "pygments_lexer": "ipython3",
   "version": "3.6.1"
  }
 },
 "nbformat": 4,
 "nbformat_minor": 2
}
